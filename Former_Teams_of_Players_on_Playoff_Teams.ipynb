{
 "cells": [
  {
   "cell_type": "markdown",
   "metadata": {},
   "source": [
    "# Former Teams of Players on Playoff Teams\n",
    "\n",
    "What playoff team should fans of non-playoff teams root for, based on which playoff team has the most former members of your favorite team? \n",
    "\n",
    "Data from: https://www.fangraphs.com/leaders/splits-leaderboards?splitArr=&strgroup=career&statgroup=1&startDate=2014-01-01&endDate=2019-09-27&filter=&position=B&statType=player&autoPt=true&sort=22,1&pg=0&players=&splitArrPitch=&splitTeams=false"
   ]
  },
  {
   "cell_type": "code",
   "execution_count": 1,
   "metadata": {},
   "outputs": [],
   "source": [
    "import pandas as pd\n",
    "pd.set_option('display.max_colwidth', 1000)\n",
    "pd.set_option('display.width', 1000)"
   ]
  },
  {
   "cell_type": "markdown",
   "metadata": {},
   "source": [
    "## Data - Past Seasons\n",
    "\n",
    "Player seasons from 2009 through 2019, split by team. \n",
    "\n",
    "TODO: get data going back to 2001. (CC Sabathia made his debut in 2001, the earliest debut of any player on a playoff team in 2019) \n",
    "\n",
    "Batting: \n",
    "https://www.fangraphs.com/leaders/splits-leaderboards?splitArr=&strgroup=career&statgroup=1&startDate=2001-01-01&endDate=2019-09-30&filter=&position=B&statType=player&autoPt=false&sort=22,1&pg=0&players=&splitArrPitch=&splitTeams=true\n",
    "\n",
    "Pitching:"
   ]
  },
  {
   "cell_type": "code",
   "execution_count": 2,
   "metadata": {},
   "outputs": [],
   "source": [
    "batting = pd.read_csv('fangraphs_batting.csv')\n",
    "pitching = pd.read_csv('fangraphs_pitching.csv')"
   ]
  },
  {
   "cell_type": "markdown",
   "metadata": {},
   "source": [
    "Combine Plate Appearances by batters and Batters Faced by pitchers into one metric, `appearances`. "
   ]
  },
  {
   "cell_type": "code",
   "execution_count": 3,
   "metadata": {},
   "outputs": [],
   "source": [
    "batting['appearances'] = batting['PA']\n",
    "pitching['appearances'] = pitching['TBF']"
   ]
  },
  {
   "cell_type": "markdown",
   "metadata": {},
   "source": [
    "Union batting and pitching data into one de-duplicated dataframe, with one row per player-season-team. "
   ]
  },
  {
   "cell_type": "code",
   "execution_count": 4,
   "metadata": {},
   "outputs": [],
   "source": [
    "columns_to_union = ['playerId', 'Season', 'Name', 'Tm', 'appearances']\n",
    "players_with_duplicates = pd.concat([pitching[columns_to_union], batting[columns_to_union]])\n",
    "players = players_with_duplicates.groupby(['playerId', 'Season', 'Name', 'Tm']).appearances.sum().reset_index()"
   ]
  },
  {
   "cell_type": "markdown",
   "metadata": {},
   "source": [
    "## Data - Current Playoff Players\n",
    "\n",
    "A \"playoff player\" is defined as a player who has made an appearance in September 2019 for one of the 10 teams in the playoffs. \n",
    "\n",
    "Data sources: https://www.fangraphs.com/leaders/splits-leaderboards?splitArr=&strgroup=career&statgroup=1&startDate=2019-09-01&endDate=2019-09-28&filter=&position=B&statType=player&autoPt=false&sort=22,1&pg=0&players=&splitArrPitch=&splitTeams=true"
   ]
  },
  {
   "cell_type": "code",
   "execution_count": 5,
   "metadata": {},
   "outputs": [],
   "source": [
    "batting_sept = pd.read_csv('fangraphs_batting_sept_2019.csv')\n",
    "pitching_sept = pd.read_csv('fangraphs_pitching_sept_2019.csv')\n",
    "\n",
    "cols_sept = ['playerId', 'Name', 'Date', 'Tm']\n",
    "sept_games = pd.concat([batting_sept[cols_sept], pitching_sept[cols_sept]]).drop_duplicates()"
   ]
  },
  {
   "cell_type": "code",
   "execution_count": 6,
   "metadata": {},
   "outputs": [],
   "source": [
    "teams = sorted(list(batting_sept.Tm.unique()))\n",
    "\n",
    "playoff_teams = [\n",
    "    'NYY', 'TBR', 'MIN', 'HOU', 'OAK'\n",
    "    , 'ATL', 'WSN', 'STL', 'MIL', 'LAD'\n",
    "]\n",
    "\n",
    "not_playoff_teams = [t for t in teams if t not in playoff_teams]"
   ]
  },
  {
   "cell_type": "code",
   "execution_count": 7,
   "metadata": {},
   "outputs": [],
   "source": [
    "most_recent = pd.DataFrame(sept_games.groupby('playerId').Date.max().reset_index())\n",
    "most_recent_team = pd.merge(most_recent, sept_games, how='inner', on=['playerId', 'Date'])\n",
    "\n",
    "playoff_players = most_recent_team[most_recent_team.Tm.isin(playoff_teams)][['playerId', 'Name', 'Tm']].reset_index()"
   ]
  },
  {
   "cell_type": "code",
   "execution_count": 8,
   "metadata": {},
   "outputs": [],
   "source": [
    "player_teams = players.groupby('playerId')['Tm'].apply(list).reset_index(name='team_list')\n",
    "\n",
    "# TODO: add first and last appearance year to this dataframe\n",
    "player_team_appearances = players.groupby(['playerId', 'Tm']).appearances.sum().reset_index()"
   ]
  },
  {
   "cell_type": "code",
   "execution_count": 9,
   "metadata": {},
   "outputs": [],
   "source": [
    "playoff_player_teams = pd.merge(playoff_players, player_teams, how='inner', on='playerId')"
   ]
  },
  {
   "cell_type": "code",
   "execution_count": 10,
   "metadata": {},
   "outputs": [],
   "source": [
    "def former_players_from_team(team, playoff_player_teams, player_team_appearances): \n",
    "    playoff_from_team_list = []\n",
    "    for idx, row in playoff_player_teams.iterrows(): \n",
    "        if team in row.team_list: \n",
    "            playoff_from_team_list += [{\n",
    "                'playerId': row.playerId\n",
    "                , 'Name': row.Name\n",
    "                , 'playoff_team': row.Tm\n",
    "            }]\n",
    "            \n",
    "    playoff_from_team = pd.DataFrame(playoff_from_team_list)\n",
    "    playoff_from_team_app = player_team_appearances[\n",
    "        (player_team_appearances['playerId'].isin(playoff_from_team.playerId))\n",
    "        & (player_team_appearances['Tm'] == team)\n",
    "    ]\n",
    "\n",
    "    return pd.merge(playoff_from_team_app, playoff_from_team, how='inner', on='playerId')"
   ]
  },
  {
   "cell_type": "markdown",
   "metadata": {},
   "source": [
    "## Iterate through non-playoff teams"
   ]
  },
  {
   "cell_type": "code",
   "execution_count": 11,
   "metadata": {
    "scrolled": false
   },
   "outputs": [
    {
     "name": "stdout",
     "output_type": "stream",
     "text": [
      "======================================================\n",
      "Team not in playoffs: COL\n",
      "\n",
      "Appearances that current NYY players made for COL: 5911\n",
      "\n",
      "Tm           Name  appearances\n",
      "COL    DJ LeMahieu         3737\n",
      "COL  Adam Ottavino         1661\n",
      "COL   Tommy Kahnle          444\n",
      "COL  Mike Tauchman           69\n",
      "\n",
      "\n",
      "Appearances that current STL players made for COL: 2608\n",
      "\n",
      "Tm           Name  appearances\n",
      "COL  Dexter Fowler         2608\n",
      "\n",
      "\n",
      "Appearances that current MIL players made for COL: 1984\n",
      "\n",
      "Tm           Name  appearances\n",
      "COL   Jordan Lyles         1326\n",
      "COL  Drew Pomeranz          658\n",
      "\n",
      "\n",
      "Appearances that current WSN players made for COL: 1249\n",
      "\n",
      "Tm           Name  appearances\n",
      "COL  Gerardo Parra         1249\n",
      "\n",
      "\n",
      "Appearances that current ATL players made for COL: 412\n",
      "\n",
      "Tm               Name  appearances\n",
      "COL  Charlie Culberson          337\n",
      "COL       Chris Martin           69\n",
      "COL      Rafael Ortega            6\n",
      "\n",
      "\n",
      "Appearances that current OAK players made for COL: 195\n",
      "\n",
      "Tm            Name  appearances\n",
      "COL  Brett Anderson          195\n",
      "\n",
      "\n",
      "Appearances that current HOU players made for COL: 89\n",
      "\n",
      "Tm         Name  appearances\n",
      "COL  Will Harris           89\n",
      "\n",
      "\n",
      "\n",
      "\n",
      "\n"
     ]
    }
   ],
   "source": [
    "# for t in not_playoff_teams:\n",
    "for t in ['COL']:\n",
    "    print('======================================================')\n",
    "    print('Team not in playoffs: {}\\n'.format(t))\n",
    "    df = former_players_from_team(t, playoff_player_teams, player_team_appearances)\n",
    "    \n",
    "    df_app = pd.DataFrame(\n",
    "        df.groupby('playoff_team').appearances.sum().reset_index(name='player_appearances')\n",
    "        ).sort_values(by='player_appearances', ascending=False)\n",
    "    \n",
    "    for idx, row in df_app.iterrows(): \n",
    "        print('Appearances that current {} players made for {}: {}\\n'.format(\n",
    "            row.playoff_team, t, row.player_appearances))\n",
    "        print(df[df.playoff_team == row.playoff_team][['Tm', 'Name', 'appearances']]\n",
    "              .sort_values(by='appearances', ascending=False).to_string(index=False))\n",
    "        print('\\n')\n",
    "    print('\\n\\n')"
   ]
  },
  {
   "cell_type": "code",
   "execution_count": null,
   "metadata": {},
   "outputs": [],
   "source": []
  }
 ],
 "metadata": {
  "kernelspec": {
   "display_name": "Python 3",
   "language": "python",
   "name": "python3"
  },
  "language_info": {
   "codemirror_mode": {
    "name": "ipython",
    "version": 3
   },
   "file_extension": ".py",
   "mimetype": "text/x-python",
   "name": "python",
   "nbconvert_exporter": "python",
   "pygments_lexer": "ipython3",
   "version": "3.7.0"
  }
 },
 "nbformat": 4,
 "nbformat_minor": 2
}
