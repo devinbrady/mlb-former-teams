{
 "cells": [
  {
   "cell_type": "markdown",
   "metadata": {},
   "source": [
    "# Former Teams of Players in the Playoffs\n",
    "\n",
    "What playoff team should fans of non-playoff teams root for, based on which playoff team has the most former members of your favorite team? \n",
    "\n",
    "Data from: https://www.fangraphs.com/leaders/splits-leaderboards?splitArr=&strgroup=career&statgroup=1&startDate=2014-01-01&endDate=2019-09-27&filter=&position=B&statType=player&autoPt=true&sort=22,1&pg=0&players=&splitArrPitch=&splitTeams=false"
   ]
  },
  {
   "cell_type": "code",
   "execution_count": 1,
   "metadata": {},
   "outputs": [],
   "source": [
    "import pandas as pd\n",
    "pd.set_option('display.max_colwidth', 1000)\n",
    "pd.set_option('display.width', 1000)"
   ]
  },
  {
   "cell_type": "markdown",
   "metadata": {},
   "source": [
    "The 10 playoff teams: "
   ]
  },
  {
   "cell_type": "code",
   "execution_count": 2,
   "metadata": {},
   "outputs": [],
   "source": [
    "playoff_teams = [\n",
    "    'NYY', 'TBR', 'MIN', 'HOU', 'OAK'\n",
    "    , 'ATL', 'WSN', 'STL', 'MIL', 'LAD'\n",
    "]\n",
    "\n",
    "teams = [\n",
    "    'ARI', 'ATL', 'BAL', 'BOS', 'CHC', 'CHW', 'CIN', 'CLE', 'COL', 'DET', 'HOU', 'KCR', 'LAA', 'LAD'\n",
    "    , 'MIA', 'MIL', 'MIN', 'NYM', 'NYY', 'OAK', 'PHI', 'PIT', 'SDP', 'SEA', 'SFG', 'STL', 'TBR', 'TEX'\n",
    "    , 'TOR', 'WSN'\n",
    "]\n",
    "\n",
    "not_playoff_teams = [t for t in teams if t not in playoff_teams]"
   ]
  },
  {
   "cell_type": "markdown",
   "metadata": {},
   "source": [
    "## Data - Past Seasons\n",
    "\n",
    "Player seasons from 2001 through 2019, split by team (CC Sabathia made his debut in 2001, the earliest debut of any player on a playoff team in 2019). Players must have at least 10 plate appearances or batters faced to count. \n",
    "\n",
    "### Batting\n",
    "\n",
    "https://www.fangraphs.com/leaders/splits-leaderboards?splitArr=&strgroup=career&statgroup=1&startDate=2001-01-01&endDate=2019-09-30&filter=PA%7Cgt%7C10&position=B&statType=player&autoPt=false&sort=22,1&pg=0&players=&splitArrPitch=&splitTeams=true"
   ]
  },
  {
   "cell_type": "code",
   "execution_count": 3,
   "metadata": {},
   "outputs": [],
   "source": [
    "batting = pd.read_csv('fangraphs_batting.csv')"
   ]
  },
  {
   "cell_type": "markdown",
   "metadata": {},
   "source": [
    "### Pitching\n",
    "\n",
    "https://www.fangraphs.com/leaders/splits-leaderboards?splitArr=&strgroup=career&statgroup=1&startDate=2001-01-01&endDate=2011-01-01&filter=TBF%7Cgt%7C10&position=P&statType=player&autoPt=false&sort=22,1&pg=0&players=&splitArrPitch=&splitTeams=true\n",
    "\n",
    "https://www.fangraphs.com/leaders/splits-leaderboards?splitArr=&strgroup=career&statgroup=1&startDate=2011-01-01&endDate=2019-09-29&filter=TBF%7Cgt%7C10&position=P&statType=player&autoPt=false&sort=22,1&pg=0&players=&splitArrPitch=&splitTeams=true"
   ]
  },
  {
   "cell_type": "code",
   "execution_count": 4,
   "metadata": {},
   "outputs": [],
   "source": [
    "pitching_2001 = pd.read_csv('fangraphs_pitchers_2001_to_2010.csv')\n",
    "pitching_2011 = pd.read_csv('fangraphs_pitchers_2011_to_2019.csv')\n",
    "pitching = pd.concat([pitching_2001, pitching_2011])"
   ]
  },
  {
   "cell_type": "markdown",
   "metadata": {},
   "source": [
    "We need one metric for both pitchers and batters. Fangraphs doens't provide \"games\" for pitchers in this dataset. Let's use Plate Appearances by batters and Batters Faced by pitchers, and combine them into one metric, `appearances`. "
   ]
  },
  {
   "cell_type": "code",
   "execution_count": 5,
   "metadata": {},
   "outputs": [],
   "source": [
    "batting['appearances'] = batting['PA']\n",
    "pitching['appearances'] = pitching['TBF']"
   ]
  },
  {
   "cell_type": "markdown",
   "metadata": {},
   "source": [
    "Combine batting and pitching data into one de-duplicated dataframe, with one row per player-season-team. "
   ]
  },
  {
   "cell_type": "code",
   "execution_count": 6,
   "metadata": {},
   "outputs": [],
   "source": [
    "columns_to_union = ['playerId', 'Season', 'Name', 'Tm', 'appearances']\n",
    "players_with_duplicates = pd.concat([pitching[columns_to_union], batting[columns_to_union]])\n",
    "players = players_with_duplicates.groupby(['playerId', 'Season', 'Name', 'Tm']).appearances.sum().reset_index()"
   ]
  },
  {
   "cell_type": "markdown",
   "metadata": {},
   "source": [
    "## Data - Current Playoff Players\n",
    "\n",
    "A \"playoff player\" is defined as a player who has made an appearance in September 2019 for one of the 10 teams in the playoffs. \n",
    "\n",
    "### Batting - September\n",
    "\n",
    "https://www.fangraphs.com/leaders/splits-leaderboards?splitArr=&strgroup=career&statgroup=1&startDate=2019-09-01&endDate=2019-09-30&filter=&position=B&statType=player&autoPt=false&sort=22,1&pg=0&players=&splitArrPitch=&splitTeams=true"
   ]
  },
  {
   "cell_type": "code",
   "execution_count": 7,
   "metadata": {},
   "outputs": [],
   "source": [
    "batting_sept = pd.read_csv('fangraphs_batting_sept_2019.csv')"
   ]
  },
  {
   "cell_type": "markdown",
   "metadata": {},
   "source": [
    "### Pitching - September\n",
    "\n",
    "https://www.fangraphs.com/leaders/splits-leaderboards?splitArr=&strgroup=career&statgroup=1&startDate=2019-09-01&endDate=2019-09-30&filter=&position=P&statType=player&autoPt=false&sort=22,1&pg=0&players=&splitArrPitch=&splitTeams=true"
   ]
  },
  {
   "cell_type": "code",
   "execution_count": 8,
   "metadata": {},
   "outputs": [],
   "source": [
    "pitching_sept = pd.read_csv('fangraphs_pitching_sept_2019.csv')"
   ]
  },
  {
   "cell_type": "markdown",
   "metadata": {},
   "source": [
    "Combine September batting and pitching data into one de-duplicated dataframe, with one row per player-game."
   ]
  },
  {
   "cell_type": "code",
   "execution_count": 9,
   "metadata": {},
   "outputs": [],
   "source": [
    "cols_to_union_sept = ['playerId', 'Name', 'Date', 'Tm']\n",
    "sept_games = pd.concat([batting_sept[cols_to_union_sept], pitching_sept[cols_to_union_sept]]).drop_duplicates()"
   ]
  },
  {
   "cell_type": "markdown",
   "metadata": {},
   "source": [
    "Create a dataframe with every playoff player and their team. Use the most recent appearance in September to connect player and team. "
   ]
  },
  {
   "cell_type": "code",
   "execution_count": 10,
   "metadata": {},
   "outputs": [],
   "source": [
    "most_recent = pd.DataFrame(sept_games.groupby('playerId').Date.max().reset_index())\n",
    "most_recent_team = pd.merge(most_recent, sept_games, how='inner', on=['playerId', 'Date'])\n",
    "\n",
    "playoff_players = most_recent_team[most_recent_team.Tm.isin(playoff_teams)][['playerId', 'Name', 'Tm']].reset_index()"
   ]
  },
  {
   "cell_type": "markdown",
   "metadata": {},
   "source": [
    "The number of appearances that every player has made for each team. One row per player-team. "
   ]
  },
  {
   "cell_type": "code",
   "execution_count": 11,
   "metadata": {},
   "outputs": [],
   "source": [
    "# player_team_appearances = players.groupby(['playerId', 'Tm']).appearances.sum().reset_index()\n",
    "players['first_season_with'] = players['Season']\n",
    "players['last_season_with'] = players['Season']\n",
    "\n",
    "player_team_appearances = players.groupby(['playerId', 'Tm']).agg({\n",
    "    'appearances': sum\n",
    "    , 'first_season_with': min\n",
    "    , 'last_season_with': max\n",
    "}).reset_index()"
   ]
  },
  {
   "cell_type": "markdown",
   "metadata": {},
   "source": [
    "For every player, a list of the teams they've ever played for. Narrow this dataframe to only players on playoff teams. "
   ]
  },
  {
   "cell_type": "code",
   "execution_count": 12,
   "metadata": {},
   "outputs": [],
   "source": [
    "player_teams = players.groupby('playerId')['Tm'].apply(list).reset_index(name='team_list')\n",
    "playoff_player_teams = pd.merge(playoff_players, player_teams, how='inner', on='playerId')"
   ]
  },
  {
   "cell_type": "code",
   "execution_count": 13,
   "metadata": {},
   "outputs": [],
   "source": [
    "def former_players_from_team(team, playoff_player_teams, player_team_appearances):\n",
    "    \"\"\"\n",
    "    For one non-playoff team, return the teams that its players have formerly played for\n",
    "    \"\"\"\n",
    "    playoff_from_team_list = []\n",
    "    for idx, row in playoff_player_teams.iterrows(): \n",
    "        if team in row.team_list: \n",
    "            playoff_from_team_list += [{\n",
    "                'playerId': row.playerId\n",
    "                , 'Name': row.Name\n",
    "                , 'playoff_team': row.Tm\n",
    "            }]\n",
    "            \n",
    "    playoff_from_team = pd.DataFrame(playoff_from_team_list)\n",
    "    playoff_from_team_app = player_team_appearances[\n",
    "        (player_team_appearances['playerId'].isin(playoff_from_team.playerId))\n",
    "        & (player_team_appearances['Tm'] == team)\n",
    "    ]\n",
    "    \n",
    "    return pd.merge(playoff_from_team_app, playoff_from_team, how='inner', on='playerId')"
   ]
  },
  {
   "cell_type": "markdown",
   "metadata": {},
   "source": [
    "## Iterate through non-playoff teams\n",
    "\n",
    "Write output to one text file per non-playoff team. "
   ]
  },
  {
   "cell_type": "code",
   "execution_count": 14,
   "metadata": {
    "scrolled": false
   },
   "outputs": [],
   "source": [
    "best_team = {}\n",
    "\n",
    "for t in not_playoff_teams:\n",
    "\n",
    "    df = former_players_from_team(t, playoff_player_teams, player_team_appearances)\n",
    "\n",
    "    df_app = pd.DataFrame(\n",
    "        df.groupby('playoff_team').appearances.sum().reset_index(name='player_appearances')\n",
    "        ).sort_values(by='player_appearances', ascending=False)\n",
    "\n",
    "    best_team[t] = df_app.loc[df_app['player_appearances'].idxmax()]['playoff_team']\n",
    "\n",
    "    df.rename(columns={\n",
    "        'first_season_with': f'first_season_with_{t}'\n",
    "        , 'last_season_with': f'last_season_with_{t}'\n",
    "    }, inplace=True)\n",
    "    \n",
    "    with open(f'non_playoff_teams/{t}.txt','w+') as f:\n",
    "    \n",
    "        f.write('Team not in playoffs: {}\\n'.format(t))\n",
    "\n",
    "        f.write(f'\\n\\nPlayoff teams with former {t} players, by number of {t} appearances:\\n\\n')\n",
    "        f.write(df_app.to_string(index=False))\n",
    "        f.write('\\n')\n",
    "\n",
    "        columns_to_write = ['Tm', 'Name', 'appearances', f'first_season_with_{t}', f'last_season_with_{t}']\n",
    "\n",
    "        for idx, row in df_app.iterrows(): \n",
    "            f.write('\\n\\nAppearances that current {} players made for {}: {}\\n'.format(\n",
    "                row.playoff_team, t, row.player_appearances))\n",
    "            f.write(df[df.playoff_team == row.playoff_team][columns_to_write]\n",
    "                  .sort_values(by='appearances', ascending=False).to_string(index=False))"
   ]
  },
  {
   "cell_type": "code",
   "execution_count": 15,
   "metadata": {},
   "outputs": [
    {
     "data": {
      "text/plain": [
       "{'ARI': 'WSN',\n",
       " 'BAL': 'ATL',\n",
       " 'BOS': 'MIL',\n",
       " 'CHC': 'LAD',\n",
       " 'CHW': 'TBR',\n",
       " 'CIN': 'OAK',\n",
       " 'CLE': 'NYY',\n",
       " 'COL': 'NYY',\n",
       " 'DET': 'HOU',\n",
       " 'KCR': 'MIL',\n",
       " 'LAA': 'WSN',\n",
       " 'MIA': 'NYY',\n",
       " 'NYM': 'WSN',\n",
       " 'PHI': 'NYY',\n",
       " 'PIT': 'TBR',\n",
       " 'SDP': 'MIL',\n",
       " 'SEA': 'NYY',\n",
       " 'SFG': 'MIN',\n",
       " 'TEX': 'MIN',\n",
       " 'TOR': 'NYY'}"
      ]
     },
     "execution_count": 15,
     "metadata": {},
     "output_type": "execute_result"
    }
   ],
   "source": [
    "best_team"
   ]
  }
 ],
 "metadata": {
  "kernelspec": {
   "display_name": "Python 3",
   "language": "python",
   "name": "python3"
  },
  "language_info": {
   "codemirror_mode": {
    "name": "ipython",
    "version": 3
   },
   "file_extension": ".py",
   "mimetype": "text/x-python",
   "name": "python",
   "nbconvert_exporter": "python",
   "pygments_lexer": "ipython3",
   "version": "3.7.0"
  }
 },
 "nbformat": 4,
 "nbformat_minor": 2
}
